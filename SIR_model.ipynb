{
 "cells": [
  {
   "cell_type": "code",
   "execution_count": 318,
   "metadata": {},
   "outputs": [],
   "source": [
    "from scipy.integrate import odeint\n",
    "import numpy as np\n",
    "import matplotlib.pyplot as plt\n"
   ]
  },
  {
   "cell_type": "markdown",
   "metadata": {},
   "source": [
    " #Let’s run the basic SIR model"
   ]
  },
  {
   "cell_type": "code",
   "execution_count": 319,
   "metadata": {},
   "outputs": [],
   "source": [
    "# describe the model\n",
    "def deriv(y, t, N, delta, beta, theta, d, k):\n",
    "    S, E, I, R, D = y\n",
    "    if t<180:\n",
    "        P = 1 - (I/N)**(1/20)\n",
    "        dSdt = -P * beta * S * I / N\n",
    "        dEdt = P * beta * S * I / N - delta * E\n",
    "        dIdt = delta * E - k * I\n",
    "        dRdt = (1 - d) * k * I\n",
    "        dDdt = I * d * k\n",
    "    elif 180<=t<360:\n",
    "        P = 1 #- (I/N)**(1/20)\n",
    "        dSdt = -P * beta * S * I / N + theta * R\n",
    "        dEdt = P * beta * S * I / N - delta * E\n",
    "        dIdt = delta * E - k * I\n",
    "        dRdt = (1 - d) * k * I - theta * R\n",
    "        dDdt = I * d * k\n",
    "    else:\n",
    "        P = 1 # - (I/N)**(1/20)\n",
    "        dSdt = -P * beta * S * I / N\n",
    "        dEdt = P * beta * S * I / N - delta * E\n",
    "        dIdt = delta * E - k * I\n",
    "        dRdt = (1 - d) * k * I\n",
    "        dDdt = I * d * k\n",
    "    return dSdt, dEdt, dIdt, dRdt, dDdt"
   ]
  },
  {
   "cell_type": "code",
   "execution_count": 320,
   "metadata": {},
   "outputs": [],
   "source": [
    "# describe the parameters\n",
    "N = 10000000                 #population (#1351) in Sweden.\n",
    "delta = 1.0/5.0              #incubation time.\n",
    "beta = 2                     #reproduction            \n",
    "theta = 1/180                #antivaccine half a year\n",
    "d = 0.01                     #fatality risk, 1 % of infected on average.\n",
    "k=1/7                        #infectious period\n",
    "#gamma = 1/d                 #konstant för recovered per dag.                \n",
    "S0, E0, I0, R0, D0 = N-1, 1, 0, 0, 0 # initial conditions: one infected, rest susceptible"
   ]
  },
  {
   "cell_type": "code",
   "execution_count": 321,
   "metadata": {},
   "outputs": [],
   "source": [
    "t = np.linspace(0, 500, 100) # Grid of time points (in days)\n",
    "y0 = S0, E0, I0, R0, D0 # Initial conditions vector\n",
    "\n",
    "# Integrate the SIR equations over the time grid, t.\n",
    "ret = odeint(deriv, y0, t, args=(N, delta, beta, theta, d, k))\n",
    "S, E, I, R, D = ret.T"
   ]
  },
  {
   "cell_type": "code",
   "execution_count": 322,
   "metadata": {},
   "outputs": [],
   "source": [
    "def plotsir(t, S, E, I, R): #D då?\n",
    "  f, ax = plt.subplots(1,1,figsize=(10,4))\n",
    "  ax.plot(t, S, 'b', alpha=0.7, linewidth=2, label='Susceptible')\n",
    "  ax.plot(t, E, 'y', alpha=0.7, linewidth=2, label='Exposed')\n",
    "  ax.plot(t, I, 'r', alpha=0.7, linewidth=2, label='Infected')\n",
    "  ax.plot(t, R, 'g', alpha=0.7, linewidth=2, label='Recovered')\n",
    "  ax.plot(t, D, 'k', alpha=0.7, linewidth=2, label='Death')\n",
    "\n",
    "  ax.set_xlabel('Time (days)')\n",
    "\n",
    "  ax.yaxis.set_tick_params(length=0)\n",
    "  ax.xaxis.set_tick_params(length=0)\n",
    "  ax.grid(b=True, which='major', c='w', lw=2, ls='-')\n",
    "  legend = ax.legend()\n",
    "  legend.get_frame().set_alpha(0.5)\n",
    "  for spine in ('top', 'right', 'bottom', 'left'):\n",
    "      ax.spines[spine].set_visible(False)\n",
    "  plt.savefig(\"Plot.png\")\n",
    "  plt.show();"
   ]
  },
  {
   "cell_type": "markdown",
   "metadata": {},
   "source": [
    "plot the graph"
   ]
  },
  {
   "cell_type": "code",
   "execution_count": 323,
   "metadata": {},
   "outputs": [
    {
     "data": {
      "image/png": "[encoded data removed]",
      "text/plain": [
       "<Figure size 720x288 with 1 Axes>"
      ]
     },
     "metadata": {
      "needs_background": "light"
     },
     "output_type": "display_data"
    }
   ],
   "source": [
    "plotsir(t, S, E, I, R)"
   ]
  }
 ],
 "metadata": {
  "kernelspec": {
   "display_name": "Python 3",
   "language": "python",
   "name": "python3"
  },
  "language_info": {
   "codemirror_mode": {
    "name": "ipython",
    "version": 3
   },
   "file_extension": ".py",
   "mimetype": "text/x-python",
   "name": "python",
   "nbconvert_exporter": "python",
   "pygments_lexer": "ipython3",
   "version": "3.8.3"
  },
  "varInspector": {
   "cols": {
    "lenName": 16,
    "lenType": 16,
    "lenVar": 40
   },
   "kernels_config": {
    "python": {
     "delete_cmd_postfix": "",
     "delete_cmd_prefix": "del ",
     "library": "var_list.py",
     "varRefreshCmd": "print(var_dic_list())"
    },
    "r": {
     "delete_cmd_postfix": ") ",
     "delete_cmd_prefix": "rm(",
     "library": "var_list.r",
     "varRefreshCmd": "cat(var_dic_list()) "
    }
   },
   "types_to_exclude": [
    "module",
    "function",
    "builtin_function_or_method",
    "instance",
    "_Feature"
   ],
   "window_display": false
  }
 },
 "nbformat": 4,
 "nbformat_minor": 4
}
